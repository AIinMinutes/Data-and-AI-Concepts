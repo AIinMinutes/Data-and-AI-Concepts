{
 "cells": [
  {
   "cell_type": "markdown",
   "id": "d2166561",
   "metadata": {},
   "source": [
    "# **Speeding Up Pandas with GPU Acceleration Using cuDF**\n",
    "\n",
    "Pandas is an incredibly flexible and powerful library for data manipulation, but it often struggles with performance, especially when working with large datasets. While pandas can handle various operations efficiently, certain limitations—such as single-threaded execution and memory management—can lead to slow processing. If you have a suitable NVIDIA GPU, **cuDF**, a part of the RAPIDS ecosystem, can help accelerate your pandas code without requiring major changes.\n",
    "\n",
    "## Why Pandas Struggles with Performance\n",
    "\n",
    "Despite its flexibility, pandas faces performance issues due to the following main reasons:\n",
    "\n",
    "~> **Single-Threaded Operations**: Most operations in pandas are single-threaded, meaning the CPU remains underutilized, especially for large datasets.\n",
    "~> **Memory Handling**: Pandas loads entire datasets into memory and may swap data to disk when the dataset exceeds available memory, which can significantly slow down operations.\n",
    "\n",
    "## GPU Acceleration with cuDF\n",
    "\n",
    "If you have access to an NVIDIA GPU, you can use **cuDF** to accelerate your pandas operations:\n",
    "\n",
    "~> **cuDF** is part of the **RAPIDS** ecosystem and is designed to leverage the power of **NVIDIA GPUs** for data processing.\n",
    "~> You can use cuDF to accelerate your pandas code without making significant changes, as it mimics the pandas API.\n",
    "\n",
    "## How cuDF Works\n",
    "\n",
    "~> **cuDF** provides a pandas-like API, but it runs computations on the GPU using **CUDA**.\n",
    "~> This allows for substantial performance improvements, especially when dealing with large datasets, by utilizing the parallelism and speed of the GPU.\n",
    "\n",
    "## Minimal Code Changes Required\n",
    "\n",
    "~> You don’t need to rewrite your entire codebase to use cuDF. Simply replace:\n",
    "  ```python\n",
    "  import pandas as pd\n",
    "  import cudf as pd\n",
    "  ```"
   ]
  },
  {
   "cell_type": "code",
   "execution_count": 1,
   "id": "e2cfb3db",
   "metadata": {},
   "outputs": [],
   "source": [
    "# !pip3 install --extra-index-url=https://pypi.nvidia.com polars[gpu] cudf-cu12"
   ]
  },
  {
   "cell_type": "code",
   "execution_count": 2,
   "id": "273c5f65-8ec4-43a2-80e3-443d7a5defc5",
   "metadata": {},
   "outputs": [],
   "source": [
    "import time\n",
    "import cudf\n",
    "import pandas as pd\n",
    "import polars as pl\n",
    "import numpy as np\n",
    "from sklearn.datasets import load_diabetes"
   ]
  },
  {
   "cell_type": "code",
   "execution_count": 3,
   "id": "627a7fbc-0a62-41b7-a49a-ce8cf6c47b6b",
   "metadata": {},
   "outputs": [],
   "source": [
    "X, _ = load_diabetes(return_X_y=True, as_frame=True)\n",
    "X = X[['age', 'bmi', 'bp']]"
   ]
  },
  {
   "cell_type": "code",
   "execution_count": 4,
   "id": "802ce9b8-67ed-499d-990f-27194ed2ebd8",
   "metadata": {},
   "outputs": [
    {
     "data": {
      "text/plain": [
       "44200000"
      ]
     },
     "execution_count": 4,
     "metadata": {},
     "output_type": "execute_result"
    }
   ],
   "source": [
    "repeat = 100000; X_big = pd.concat([X for _ in range(repeat)])\n",
    "X_big.shape[0]"
   ]
  },
  {
   "cell_type": "code",
   "execution_count": 5,
   "id": "73988da0-f2bd-44c7-af80-c240165275ed",
   "metadata": {},
   "outputs": [],
   "source": [
    "start_time = time.time()\n",
    "(\n",
    "    X_big.groupby('age')\n",
    "    .agg({'bmi': 'mean', 'bp': 'max'})\n",
    "    .sort_values(by='bmi')\n",
    ")\n",
    "end_time = time.time()"
   ]
  },
  {
   "cell_type": "code",
   "execution_count": 6,
   "id": "57491c43",
   "metadata": {},
   "outputs": [
    {
     "name": "stdout",
     "output_type": "stream",
     "text": [
      "Pandas took 0.57s\n"
     ]
    }
   ],
   "source": [
    "print(f\"Pandas took {end_time - start_time:.2f}s\")"
   ]
  },
  {
   "cell_type": "code",
   "execution_count": 7,
   "id": "dfc7aa7a-220e-496e-9226-7a95a0f499c7",
   "metadata": {},
   "outputs": [],
   "source": [
    "# Or alternatively load cudf.pandas extension \n",
    "X_cudf = cudf.DataFrame.from_pandas(X_big)"
   ]
  },
  {
   "cell_type": "code",
   "execution_count": 8,
   "id": "c13eb14b-e826-453f-b765-eb9c2ec20e6f",
   "metadata": {
    "scrolled": true
   },
   "outputs": [],
   "source": [
    "start_time = time.time()\n",
    "(\n",
    "    X_cudf.groupby('age')\n",
    "    .agg({'bmi': 'mean', 'bp': 'max'})\n",
    "    .sort_values(by='bmi') \n",
    ")\n",
    "end_time = time.time()"
   ]
  },
  {
   "cell_type": "code",
   "execution_count": 9,
   "id": "4ff3c86c",
   "metadata": {},
   "outputs": [
    {
     "name": "stdout",
     "output_type": "stream",
     "text": [
      "cuDF took 0.26s\n"
     ]
    }
   ],
   "source": [
    "print(f\"cuDF took {end_time - start_time:.2f}s\")"
   ]
  },
  {
   "cell_type": "code",
   "execution_count": 10,
   "id": "0f994ad2-37a8-4496-80e2-b3c975b3b62c",
   "metadata": {},
   "outputs": [],
   "source": [
    "# Polars (may require API changes)\n",
    "X_polars = pl.from_dataframe(X_big).lazy()"
   ]
  },
  {
   "cell_type": "code",
   "execution_count": 11,
   "id": "7544ab15-01c5-442c-810f-9aaeebf3cbb4",
   "metadata": {},
   "outputs": [],
   "source": [
    "start_time = time.time()\n",
    "X_polars.group_by(\"age\").agg([\n",
    "    pl.col(\"bmi\").mean(),\n",
    "    pl.col(\"bp\").max()\n",
    "]).sort(\"bmi\")\n",
    "end_time = time.time()"
   ]
  },
  {
   "cell_type": "code",
   "execution_count": 12,
   "id": "ca8590a3",
   "metadata": {},
   "outputs": [
    {
     "name": "stdout",
     "output_type": "stream",
     "text": [
      "Polars took 0.0021s\n"
     ]
    }
   ],
   "source": [
    "print(f\"Polars took {end_time - start_time:.4f}s\")"
   ]
  },
  {
   "cell_type": "code",
   "execution_count": 13,
   "id": "b6ac94dd-e867-4024-a464-a9a79713d3f7",
   "metadata": {},
   "outputs": [],
   "source": [
    "# In fact, you can use polars with GPU (requires tuning)\n",
    "X_polars = pl.from_dataframe(X_big).lazy()"
   ]
  },
  {
   "cell_type": "code",
   "execution_count": 14,
   "id": "a602a2f6-b97b-4787-b779-5f18285e0f8f",
   "metadata": {},
   "outputs": [],
   "source": [
    "start_time = time.time()\n",
    "X_polars.group_by(\"age\").agg([\n",
    "    pl.col(\"bmi\").mean(),\n",
    "    pl.col(\"bp\").max()\n",
    "]).sort(\"bmi\").collect(engine='gpu')\n",
    "end_time = time.time()"
   ]
  },
  {
   "cell_type": "code",
   "execution_count": 15,
   "id": "b1f077a1",
   "metadata": {},
   "outputs": [
    {
     "name": "stdout",
     "output_type": "stream",
     "text": [
      "Polars (on GPU) took 0.6892s\n"
     ]
    }
   ],
   "source": [
    "print(f\"Polars (on GPU) took {end_time - start_time:.4f}s\")"
   ]
  },
  {
   "cell_type": "code",
   "execution_count": null,
   "id": "6e2cec89",
   "metadata": {},
   "outputs": [],
   "source": []
  }
 ],
 "metadata": {
  "kernelspec": {
   "display_name": "mlops",
   "language": "python",
   "name": "python3"
  },
  "language_info": {
   "codemirror_mode": {
    "name": "ipython",
    "version": 3
   },
   "file_extension": ".py",
   "mimetype": "text/x-python",
   "name": "python",
   "nbconvert_exporter": "python",
   "pygments_lexer": "ipython3",
   "version": "3.11.11"
  }
 },
 "nbformat": 4,
 "nbformat_minor": 5
}
