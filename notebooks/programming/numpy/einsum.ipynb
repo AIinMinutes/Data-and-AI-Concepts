{
 "cells": [
  {
   "cell_type": "markdown",
   "metadata": {},
   "source": [
    "# Understanding Einstein Summation Notation in NumPy"
   ]
  },
  {
   "cell_type": "markdown",
   "metadata": {},
   "source": [
    "## Basic Concept\n",
    "With `einsum`, you:\n",
    "1. Define labels for each axis of your tensors\n",
    "2. Specify which labels appear in the output\n",
    "3. Repeated labels indicate summation along those axes"
   ]
  },
  {
   "cell_type": "markdown",
   "metadata": {},
   "source": [
    "### Dot Product"
   ]
  },
  {
   "cell_type": "code",
   "execution_count": 17,
   "metadata": {},
   "outputs": [
    {
     "name": "stdout",
     "output_type": "stream",
     "text": [
      "Dot product using np.dot(): 32\n",
      "Dot product using einsum: 32\n"
     ]
    }
   ],
   "source": [
    "v1 = np.array([1, 2, 3])\n",
    "v2 = np.array([4, 5, 6])\n",
    "\n",
    "# Regular method\n",
    "dot_product_regular = np.dot(v1, v2)\n",
    "print(\"Dot product using np.dot():\", dot_product_regular)\n",
    "\n",
    "# Using einsum: repeated index 'i' means sum over this dimension\n",
    "dot_product_einsum = np.einsum('i,i->', v1, v2)\n",
    "print(\"Dot product using einsum:\", dot_product_einsum)"
   ]
  },
  {
   "cell_type": "markdown",
   "metadata": {},
   "source": [
    "### Outer Product"
   ]
  },
  {
   "cell_type": "code",
   "execution_count": 18,
   "metadata": {},
   "outputs": [
    {
     "name": "stdout",
     "output_type": "stream",
     "text": [
      "Outer product using np.outer():\n",
      " [[ 4  5  6]\n",
      " [ 8 10 12]\n",
      " [12 15 18]]\n",
      "Outer product using einsum:\n",
      " [[ 4  5  6]\n",
      " [ 8 10 12]\n",
      " [12 15 18]]\n"
     ]
    }
   ],
   "source": [
    "# Regular method\n",
    "outer_product_regular = np.outer(v1, v2)\n",
    "print(\"Outer product using np.outer():\\n\", outer_product_regular)\n",
    "\n",
    "# Using einsum: separate indices 'i,j' with no summation\n",
    "outer_product_einsum = np.einsum('i,j->ij', v1, v2)\n",
    "print(\"Outer product using einsum:\\n\", outer_product_einsum)"
   ]
  },
  {
   "cell_type": "code",
   "execution_count": 19,
   "metadata": {},
   "outputs": [
    {
     "name": "stdout",
     "output_type": "stream",
     "text": [
      "Matrix-vector product using @:\n",
      " [41 59]\n",
      "Matrix-vector product using einsum:\n",
      " [41 59]\n"
     ]
    }
   ],
   "source": [
    "### Matrix-Vector Multiplication\n",
    "A = np.array([[4, 5], [6, 7]])\n",
    "v = np.array([4, 5])\n",
    "\n",
    "# Regular method\n",
    "mv_regular = A @ v  # or np.matmul(A, v)\n",
    "print(\"Matrix-vector product using @:\\n\", mv_regular)\n",
    "\n",
    "# Using einsum: sum over the repeated index 'j'\n",
    "mv_einsum = np.einsum('ij,j->i', A, v)\n",
    "print(\"Matrix-vector product using einsum:\\n\", mv_einsum)"
   ]
  },
  {
   "cell_type": "markdown",
   "metadata": {},
   "source": [
    "### Matrix-Matrix Multiplication"
   ]
  },
  {
   "cell_type": "code",
   "execution_count": 20,
   "metadata": {},
   "outputs": [
    {
     "name": "stdout",
     "output_type": "stream",
     "text": [
      "Matrix-matrix product using @:\n",
      " [[42 56 25]\n",
      " [60 80 37]]\n",
      "Matrix-matrix product using einsum:\n",
      " [[42 56 25]\n",
      " [60 80 37]]\n"
     ]
    }
   ],
   "source": [
    "A = np.array([[4, 5], [6, 7]])\n",
    "B = np.array([[3, 4, 5], [6, 8, 1]]).reshape(2, 3)\n",
    "\n",
    "# Regular method\n",
    "mm_regular = A @ B  # or np.matmul(A, B)\n",
    "print(\"Matrix-matrix product using @:\\n\", mm_regular)\n",
    "\n",
    "# Using einsum: sum over the repeated index 'j'\n",
    "mm_einsum = np.einsum('ij,jk->ik', A, B)\n",
    "print(\"Matrix-matrix product using einsum:\\n\", mm_einsum)"
   ]
  },
  {
   "cell_type": "markdown",
   "metadata": {},
   "source": [
    "### Element-wise Multiplication"
   ]
  },
  {
   "cell_type": "code",
   "execution_count": 21,
   "metadata": {},
   "outputs": [
    {
     "name": "stdout",
     "output_type": "stream",
     "text": [
      "Element-wise product using *:\n",
      " [[12  5]\n",
      " [ 3  8]]\n",
      "Element-wise product using einsum:\n",
      " [[12  5]\n",
      " [ 3  8]]\n"
     ]
    }
   ],
   "source": [
    "A = np.array([[3, 1], [3, 4]])\n",
    "B = np.array([[4, 5], [1, 2]])\n",
    "\n",
    "# Regular method\n",
    "elementwise_regular = A * B\n",
    "print(\"Element-wise product using *:\\n\", elementwise_regular)\n",
    "\n",
    "# Using einsum: indices remain the same for input and output\n",
    "elementwise_einsum = np.einsum('ij,ij->ij', A, B)\n",
    "print(\"Element-wise product using einsum:\\n\", elementwise_einsum)"
   ]
  },
  {
   "cell_type": "markdown",
   "metadata": {},
   "source": [
    "### Matrix Multiplication Batch-wise"
   ]
  },
  {
   "cell_type": "code",
   "execution_count": 22,
   "metadata": {},
   "outputs": [
    {
     "name": "stdout",
     "output_type": "stream",
     "text": [
      "X shape: (2, 3, 4)\n",
      "Y shape: (2, 4, 5)\n",
      "Result shape: (2, 3, 5)\n"
     ]
    }
   ],
   "source": [
    "\n",
    "# 3D example\n",
    "X = np.random.rand(2, 3, 4)  # Shape (2, 3, 4)\n",
    "Y = np.random.rand(2, 4, 5)  # Shape (2, 4, 5)\n",
    "\n",
    "# Let's interpret these as:\n",
    "# X: 2 batches, 3 rows, 4 columns\n",
    "# Y: 2 batches, 4 rows, 5 columns\n",
    "\n",
    "# Batch matrix multiplication: brc,bct->brt\n",
    "# Sum over c (columns of X, rows of Y)\n",
    "# Free indices: b (batch), r (rows of X), t (columns of Y)\n",
    "result = np.einsum('brc,bct->brt', X, Y)\n",
    "print(\"X shape:\", X.shape)\n",
    "print(\"Y shape:\", Y.shape)\n",
    "print(\"Result shape:\", result.shape)"
   ]
  },
  {
   "cell_type": "markdown",
   "metadata": {},
   "source": [
    "### Permuting Axes"
   ]
  },
  {
   "cell_type": "code",
   "execution_count": 24,
   "metadata": {},
   "outputs": [
    {
     "name": "stdout",
     "output_type": "stream",
     "text": [
      "Original A:\n",
      " [[1 2 3]\n",
      " [4 5 6]]\n",
      "A transpose using .T:\n",
      " [[1 4]\n",
      " [2 5]\n",
      " [3 6]]\n",
      "A transpose using einsum:\n",
      " [[1 4]\n",
      " [2 5]\n",
      " [3 6]]\n",
      "Original X shape: (2, 3, 4)\n",
      "Permuted X shape: (4, 3, 2)\n"
     ]
    }
   ],
   "source": [
    "\n",
    "# Transpose a matrix\n",
    "A = np.array([[1, 2, 3], [4, 5, 6]])\n",
    "print(\"Original A:\\n\", A)\n",
    "print(\"A transpose using .T:\\n\", A.T)\n",
    "print(\"A transpose using einsum:\\n\", np.einsum('ij->ji', A))\n",
    "\n",
    "# Permute axes of a 3D tensor\n",
    "X = np.random.rand(2, 3, 4)\n",
    "print(\"Original X shape:\", X.shape)\n",
    "print(\"Permuted X shape:\", np.einsum('ijk->kji', X).shape)  # Should be (4, 3, 2)"
   ]
  }
 ],
 "metadata": {
  "kernelspec": {
   "display_name": "book",
   "language": "python",
   "name": "python3"
  },
  "language_info": {
   "codemirror_mode": {
    "name": "ipython",
    "version": 3
   },
   "file_extension": ".py",
   "mimetype": "text/x-python",
   "name": "python",
   "nbconvert_exporter": "python",
   "pygments_lexer": "ipython3",
   "version": "3.11.11"
  }
 },
 "nbformat": 4,
 "nbformat_minor": 2
}
