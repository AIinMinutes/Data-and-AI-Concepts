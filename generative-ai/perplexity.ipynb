{
 "cells": [
  {
   "cell_type": "code",
   "execution_count": 3,
   "id": "55c9a2e4-bccd-4abc-888a-00759844a07b",
   "metadata": {},
   "outputs": [],
   "source": [
    "!pip3 install -q lmppl\n",
    "\n",
    "import warnings\n",
    "import numpy as np\n",
    "import matplotlib.pyplot as plt\n",
    "import lmppl\n",
    "\n",
    "\n",
    "warnings.filterwarnings('ignore')\n",
    "plt.style.use('dark_background')\n",
    "scorer = lmppl.LM('gpt2')"
   ]
  },
  {
   "cell_type": "code",
   "execution_count": 4,
   "id": "16f5c5b7-dc6f-47d2-92d8-2c021d47ad93",
   "metadata": {},
   "outputs": [
    {
     "name": "stderr",
     "output_type": "stream",
     "text": [
      "100%|█████████████████████████████████████████████| 1/1 [00:00<00:00, 21.31it/s]\n",
      "100%|█████████████████████████████████████████████| 1/1 [00:00<00:00, 36.78it/s]\n",
      "100%|█████████████████████████████████████████████| 1/1 [00:00<00:00, 38.71it/s]\n",
      "100%|█████████████████████████████████████████████| 1/1 [00:00<00:00, 34.40it/s]"
     ]
    },
    {
     "name": "stdout",
     "output_type": "stream",
     "text": [
      "[11963.98381445005, 1366.2398882933815, 460.768811327452, 46.20076555515029]\n"
     ]
    },
    {
     "name": "stderr",
     "output_type": "stream",
     "text": [
      "\n"
     ]
    }
   ],
   "source": [
    "# Sentence and corresponding word splits\n",
    "sentence = 'We celebrate Christmas on the 25th of every'\n",
    "words = sentence.split(' ')\n",
    "\n",
    "# Get perplexities for different context sizes\n",
    "ppl_values = [\n",
    "    scorer.get_perplexity(' '.join(words[:2])),\n",
    "    scorer.get_perplexity(' '.join(words[:3])),\n",
    "    scorer.get_perplexity(' '.join(words[:4])),\n",
    "    scorer.get_perplexity(' '.join(words))\n",
    "]\n",
    "\n",
    "print(ppl_values)"
   ]
  },
  {
   "cell_type": "code",
   "execution_count": null,
   "id": "97c28b43-e17a-406b-a87e-5f639b071119",
   "metadata": {},
   "outputs": [],
   "source": [
    "x_labels = [2, 3, 4, len(words)]\n",
    "\n",
    "# Plotting the perplexity values\n",
    "plt.figure(figsize=(8, 5), dpi=300)\n",
    "plt.plot(x_labels, ppl_values, marker='o', \n",
    "         color='magenta', linestyle='-', linewidth=2, \n",
    "         markersize=8)\n",
    "plt.title('Perplexity and Context', fontsize=16)\n",
    "plt.xlabel('Number of Words', fontsize=12)\n",
    "plt.ylabel('Perplexity', fontsize=12)\n",
    "plt.xticks(x_labels)\n",
    "plt.grid(True, alpha=0.2, linestyle='--')\n",
    "plt.show()"
   ]
  },
  {
   "cell_type": "markdown",
   "id": "88395c61-585c-4d95-8fa5-a4b6c3e9092f",
   "metadata": {},
   "source": [
    "#### Perplexity in Language Models\n",
    "\n",
    "**Definition:**\n",
    "$$\n",
    "P(W) = \\exp\\left( -\\frac{1}{N} \\sum_{i=1}^{N} \\log P(w_i | w_1, w_2, \\dots, w_{i-1}) \\right)\n",
    "$$\n",
    "Where:\n",
    "- $ P(w_i | w_1, \\dots, w_{i-1}) $: Conditional probability of $ w_i $\n",
    "- $ N $: Number of words in the sequence\n",
    "\n",
    "\n",
    "\n",
    "**Log-Likelihood Sum:**\n",
    "$$\n",
    "\\sum_{i=1}^{N} \\log P(w_i | w_1, \\dots, w_{i-1})\n",
    "$$\n",
    "Represents the cumulative uncertainty of the model's predictions.\n",
    "\n",
    "---\n",
    "\n",
    "**Interpretation:**\n",
    "- **Lower Perplexity**: Indicates better model performance, meaning the model is more confident in its predictions and less surprised by the data.\n",
    "- **Higher Perplexity**: Indicates worse model performance, meaning the model is less confident or struggles to predict the data accurately.\n",
    "\n",
    "**What It Interprets:**\n",
    "Perplexity interprets the **uncertainty** of the language model: the lower the perplexity, the less uncertainty the model has in predicting the next word in a sequence.\n"
   ]
  },
  {
   "cell_type": "code",
   "execution_count": null,
   "id": "2ec06e55-9062-4f47-8ff2-41fe6cb707f9",
   "metadata": {},
   "outputs": [],
   "source": []
  }
 ],
 "metadata": {
  "kernelspec": {
   "display_name": "Python 3 (ipykernel)",
   "language": "python",
   "name": "python3"
  },
  "language_info": {
   "codemirror_mode": {
    "name": "ipython",
    "version": 3
   },
   "file_extension": ".py",
   "mimetype": "text/x-python",
   "name": "python",
   "nbconvert_exporter": "python",
   "pygments_lexer": "ipython3",
   "version": "3.12.2"
  }
 },
 "nbformat": 4,
 "nbformat_minor": 5
}
