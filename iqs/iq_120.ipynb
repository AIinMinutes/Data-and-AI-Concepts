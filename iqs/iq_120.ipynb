{
 "cells": [
  {
   "cell_type": "markdown",
   "id": "7e5e55ec-c055-466c-aac3-81cbbc320d4c",
   "metadata": {},
   "source": [
    "# Q: How can you compute a confusion matrix for binary classification using the dot product?\n",
    "\n",
    "### Confusion Matrix (Binary Classification) with Dot Product\n",
    "\n",
    "- **Confusion Matrix**: A 2x2 matrix to evaluate binary classification performance:\n",
    "  - **True Positive (TP)**: Correctly predicted positives\n",
    "  - **False Positive (FP)**: Incorrectly predicted positives\n",
    "  - **False Negative (FN)**: Incorrectly predicted negatives\n",
    "  - **True Negative (TN)**: Correctly predicted negatives\n",
    "\n",
    "### Dot Product for Computing Confusion Matrix\n",
    "\n",
    "- **True Labels Vector**: $\\mathbf{y_{\\text{true}}}$ (binary values: 0 or 1)\n",
    "- **Predicted Labels Vector**: $\\mathbf{y_{\\text{pred}}}$ (binary values: 0 or 1)\n",
    "\n",
    "1. **True Positives (TP)**: \n",
    "   $$\\text{TP} = \\mathbf{y_{\\text{true}}} \\cdot \\mathbf{y_{\\text{pred}}}$$\n",
    "   (Sum of cases where both true and predicted are 1)\n",
    "\n",
    "2. **False Negatives (FN)**: \n",
    "   $$\\text{FN} = \\mathbf{y_{\\text{true}}} \\cdot (\\mathbf{1} - \\mathbf{y_{\\text{pred}}})$$\n",
    "   (Cases where true is 1 and predicted is 0)\n",
    "\n",
    "3. **False Positives (FP)**: \n",
    "   $$\\text{FP} = (\\mathbf{1} - \\mathbf{y_{\\text{true}}}) \\cdot \\mathbf{y_{\\text{pred}}}$$\n",
    "   (Cases where true is 0 and predicted is 1)\n",
    "\n",
    "4. **True Negatives (TN)**: \n",
    "   $$\\text{TN} = (\\mathbf{1} - \\mathbf{y_{\\text{true}}}) \\cdot (\\mathbf{1} - \\mathbf{y_{\\text{pred}}})$$\n",
    "   (Cases where both true and predicted are 0)\n"
   ]
  },
  {
   "cell_type": "code",
   "execution_count": 1,
   "id": "1b0504ee-b22f-41c4-9b33-a5c017ce720e",
   "metadata": {},
   "outputs": [],
   "source": [
    "import numpy as np\n",
    "\n",
    "labels = [0, 1, 1, 1, 0, 0, 0, 1, 1, 0] * 10000\n",
    "predictions = [1, 1, 1, 0, 0, 1, 1, 0, 1, 1] * 10000"
   ]
  },
  {
   "cell_type": "code",
   "execution_count": 2,
   "id": "95839882-d89d-48ff-befc-327f0a79b134",
   "metadata": {},
   "outputs": [],
   "source": [
    "def confusion_matrix_dot(t, p):\n",
    "    t = np.array(t)\n",
    "    p = np.array(p)\n",
    "    TP = t @ p \n",
    "    FP = (1 - t) @ p\n",
    "    FN = t @ (1 - p) \n",
    "    TN = (1 - t) @ (1 - p)\n",
    "    return (TP, FP, FN, TN)"
   ]
  },
  {
   "cell_type": "code",
   "execution_count": 3,
   "id": "cc013a9b-28d0-4cac-86dd-ce3665750042",
   "metadata": {},
   "outputs": [
    {
     "name": "stdout",
     "output_type": "stream",
     "text": [
      "30000 40000 20000 10000\n"
     ]
    }
   ],
   "source": [
    "TP, FP, FN, TN = confusion_matrix_dot(labels, predictions)\n",
    "print(TP, FP, FN, TN)"
   ]
  },
  {
   "cell_type": "code",
   "execution_count": 4,
   "id": "22f9f114-a404-4264-a485-420e361cd906",
   "metadata": {},
   "outputs": [
    {
     "name": "stdout",
     "output_type": "stream",
     "text": [
      "5.15 ms ± 276 μs per loop (mean ± std. dev. of 7 runs, 100 loops each)\n"
     ]
    }
   ],
   "source": [
    "%timeit confusion_matrix_dot(labels, predictions)"
   ]
  },
  {
   "cell_type": "code",
   "execution_count": 5,
   "id": "15706726-c0e9-4b10-9e75-8d84e36214b6",
   "metadata": {},
   "outputs": [],
   "source": [
    "def confusion_matrix_dot_faster(t, p):\n",
    "    t = np.array(t) \n",
    "    p = np.array(p)\n",
    "\n",
    "    TP = t @ p\n",
    "    P = np.sum(t) # total positives\n",
    "    PP = np.sum(p) # predicted positives\n",
    "    N = len(t) - P\n",
    "    \n",
    "    FP = PP - TP\n",
    "    FN = P - TP \n",
    "\n",
    "    TN = N - FP \n",
    "\n",
    "    return (TP, FP, FN, TN)"
   ]
  },
  {
   "cell_type": "code",
   "execution_count": 6,
   "id": "766690c1-2655-476b-a1d1-5b476afeba2e",
   "metadata": {},
   "outputs": [
    {
     "name": "stdout",
     "output_type": "stream",
     "text": [
      "30000 40000 20000 10000\n"
     ]
    }
   ],
   "source": [
    "TP, FP, FN, TN = confusion_matrix_dot_faster(labels, predictions)\n",
    "print(TP, FP, FN, TN)"
   ]
  },
  {
   "cell_type": "code",
   "execution_count": 7,
   "id": "06961615-ad20-4857-8664-ec3e3f3e0e1d",
   "metadata": {},
   "outputs": [
    {
     "name": "stdout",
     "output_type": "stream",
     "text": [
      "4.38 ms ± 50.1 μs per loop (mean ± std. dev. of 7 runs, 100 loops each)\n"
     ]
    }
   ],
   "source": [
    "%timeit confusion_matrix_dot_faster(labels, predictions)"
   ]
  },
  {
   "cell_type": "code",
   "execution_count": null,
   "id": "1ed62813-16b8-411d-b45c-aff8be4fa48b",
   "metadata": {},
   "outputs": [],
   "source": []
  },
  {
   "cell_type": "code",
   "execution_count": null,
   "id": "ecf5332a-5d59-4fc7-90ff-e321f360ccbc",
   "metadata": {},
   "outputs": [],
   "source": []
  }
 ],
 "metadata": {
  "kernelspec": {
   "display_name": "book",
   "language": "python",
   "name": "book"
  },
  "language_info": {
   "codemirror_mode": {
    "name": "ipython",
    "version": 3
   },
   "file_extension": ".py",
   "mimetype": "text/x-python",
   "name": "python",
   "nbconvert_exporter": "python",
   "pygments_lexer": "ipython3",
   "version": "3.11.11"
  }
 },
 "nbformat": 4,
 "nbformat_minor": 5
}
